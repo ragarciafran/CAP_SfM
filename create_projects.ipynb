{
 "cells": [
  {
   "cell_type": "markdown",
   "metadata": {},
   "source": [
    "## Create project\n",
    "\n",
    "This notebook creates a project for OpenSfM to run a reconstruction on. Prerequisites:\n",
    "- Create a directory called projects/ within the current directory\n",
    "- Within projects/, create a folder with whatever name you want to give to your current reconstruction\n",
    "- Within this individual project, download a geojson called map.geojson with your AOI from https://geojson.io/"
   ]
  },
  {
   "cell_type": "code",
   "execution_count": 24,
   "metadata": {},
   "outputs": [],
   "source": [
    "# downloading the metadata file if it does not exist\n",
    "import os\n",
    "if not os.path.isfile(\"ladi_images_metadata.csv\"):\n",
    "    !wget http://ladi.s3-us-west-2.amazonaws.com/Labels/ladi_images_metadata.csv"
   ]
  },
  {
   "cell_type": "code",
   "execution_count": 25,
   "metadata": {},
   "outputs": [],
   "source": [
    "# importing the usual things\n",
    "import numpy as np\n",
    "import pandas as pd\n",
    "from matplotlib import pyplot as plt\n",
    "import json\n",
    "import shutil\n",
    "\n",
    "# for downloading images\n",
    "import requests\n",
    "\n",
    "# importing the geoprocessing libraries\n",
    "import geopandas as gpd\n",
    "import fiona # library for reading/writing GIS files, comes w/ geopandas\n",
    "from shapely.geometry import Point, LineString, Polygon"
   ]
  },
  {
   "cell_type": "code",
   "execution_count": 32,
   "metadata": {},
   "outputs": [],
   "source": [
    "# change parameters for individual projects\n",
    "target_date_start = \"2016-08-01\"\n",
    "target_date_end = \"2017-09-30\"\n",
    "project_path = \"projects/baton_rouge/\""
   ]
  },
  {
   "cell_type": "code",
   "execution_count": 33,
   "metadata": {},
   "outputs": [],
   "source": [
    "# load the csv as a gdf\n",
    "df = pd.read_csv(\"ladi_images_metadata.csv\")\n",
    "df[\"timestamp\"] = pd.to_datetime(df[\"timestamp\"])\n",
    "df.set_index(\"timestamp\", inplace=True)\n",
    "df = df[df.index > target_date_start]\n",
    "# df = df[df.index < target_date_end]\n",
    "df = df.sort_index()\n",
    "# df = df.loc[target_date_start:target_date_end]\n"
   ]
  },
  {
   "cell_type": "code",
   "execution_count": 34,
   "metadata": {},
   "outputs": [
    {
     "name": "stdout",
     "output_type": "stream",
     "text": [
      "          NAME                                           geometry\n",
      "0  BATON ROUGE  POLYGON ((-91.19261 30.49411, -91.19267 30.494...\n",
      "          NAME                                           geometry\n",
      "0  BATON ROUGE  POLYGON ((-91.19261 30.49411, -91.19267 30.494...\n"
     ]
    }
   ],
   "source": [
    "gdf = gpd.GeoDataFrame(\n",
    "    df, geometry=gpd.points_from_xy(df.gps_lon, df.gps_lat))\n",
    "gdf.crs = 'epsg:4326'\n",
    "\n",
    "geojson = gpd.read_file(project_path + 'map.geojson')\n",
    "print(geojson)\n",
    "poly = geojson.iloc[0, 1]\n",
    "print(geojson)"
   ]
  },
  {
   "cell_type": "code",
   "execution_count": 35,
   "metadata": {},
   "outputs": [
    {
     "name": "stdout",
     "output_type": "stream",
     "text": [
      "                                                         uuid    gps_lat  \\\n",
      "timestamp                                                                  \n",
      "2016-08-14 10:25:25  363e62ad6b6fadbecaa973b8107dfa5cc97c0913  30.510122   \n",
      "2016-08-14 10:25:44  c4660c2eeec595acfadeadfc814a8dc9e6abbb3d  30.508188   \n",
      "2016-08-14 10:25:46  e3d8401e46eb6a440fd11653f7ce8d3cccce3e96  30.507962   \n",
      "2016-08-14 10:25:47  cc712a6824c2e00585abf710ba990a8e009ff2a4  30.507840   \n",
      "2016-08-14 10:25:51  e828fa3ffa1b947d4459adb51f1371e0c90f3176  30.507173   \n",
      "...                                                       ...        ...   \n",
      "2016-08-16 09:45:03  0d68c858057093f1ee683ff3ccc077c8312ee8d0  30.490680   \n",
      "2016-08-16 09:45:05  974f57adba0ef9f240179235927037732148c8f8  30.490492   \n",
      "2016-08-16 09:45:08  f66e30086114a52a9d8c7f6bd9611528a5a65a56  30.490333   \n",
      "2016-08-16 09:45:10  2e16303f7709d3c46753ea911070d900a0e6cfac  30.490055   \n",
      "2016-08-16 09:45:12  fbb9b5c04864dfb9db8abb4b6fc47f5a2c055bdd  30.489922   \n",
      "\n",
      "                       gps_lon  gps_alt   file_size   width  height  \\\n",
      "timestamp                                                             \n",
      "2016-08-14 10:25:25 -91.130242    364.0  11040778.0  6000.0  4000.0   \n",
      "2016-08-14 10:25:44 -91.120155    392.0   9793095.0  6000.0  4000.0   \n",
      "2016-08-14 10:25:46 -91.119123    385.0  10928877.0  6000.0  4000.0   \n",
      "2016-08-14 10:25:47 -91.118598    384.0  11163423.0  6000.0  4000.0   \n",
      "2016-08-14 10:25:51 -91.115957    380.0  12199551.0  6000.0  4000.0   \n",
      "...                        ...      ...         ...     ...     ...   \n",
      "2016-08-16 09:45:03 -91.121455    350.0    444377.0  1800.0  1200.0   \n",
      "2016-08-16 09:45:05 -91.123170    357.0    454338.0  1800.0  1200.0   \n",
      "2016-08-16 09:45:08 -91.124312    358.0    429934.0  1800.0  1200.0   \n",
      "2016-08-16 09:45:10 -91.126037    357.0    459981.0  1800.0  1200.0   \n",
      "2016-08-16 09:45:12 -91.127215    350.0    383179.0  1800.0  1200.0   \n",
      "\n",
      "                                                               s3_path  \\\n",
      "timestamp                                                                \n",
      "2016-08-14 10:25:25  s3://ladi/Images/FEMA_CAP/2024/221180/010_2254...   \n",
      "2016-08-14 10:25:44  s3://ladi/Images/FEMA_CAP/2024/221180/010_2255...   \n",
      "2016-08-14 10:25:46  s3://ladi/Images/FEMA_CAP/2024/221180/010_2256...   \n",
      "2016-08-14 10:25:47  s3://ladi/Images/FEMA_CAP/2024/221180/010_2257...   \n",
      "2016-08-14 10:25:51  s3://ladi/Images/FEMA_CAP/3033/231165/010_2258...   \n",
      "...                                                                ...   \n",
      "2016-08-16 09:45:03  s3://ladi/Images/FEMA_CAP/3033/231168/CAP010Li...   \n",
      "2016-08-16 09:45:05  s3://ladi/Images/FEMA_CAP/3033/231168/CAP010Li...   \n",
      "2016-08-16 09:45:08  s3://ladi/Images/FEMA_CAP/3033/231168/CAP010Li...   \n",
      "2016-08-16 09:45:10  s3://ladi/Images/FEMA_CAP/3033/231168/CAP010Li...   \n",
      "2016-08-16 09:45:12  s3://ladi/Images/FEMA_CAP/3033/231168/CAP010Li...   \n",
      "\n",
      "                                                                   url  \\\n",
      "timestamp                                                                \n",
      "2016-08-14 10:25:25  https://ladi.s3-us-west-2.amazonaws.com/Images...   \n",
      "2016-08-14 10:25:44  https://ladi.s3-us-west-2.amazonaws.com/Images...   \n",
      "2016-08-14 10:25:46  https://ladi.s3-us-west-2.amazonaws.com/Images...   \n",
      "2016-08-14 10:25:47  https://ladi.s3-us-west-2.amazonaws.com/Images...   \n",
      "2016-08-14 10:25:51  https://ladi.s3-us-west-2.amazonaws.com/Images...   \n",
      "...                                                                ...   \n",
      "2016-08-16 09:45:03  https://ladi.s3-us-west-2.amazonaws.com/Images...   \n",
      "2016-08-16 09:45:05  https://ladi.s3-us-west-2.amazonaws.com/Images...   \n",
      "2016-08-16 09:45:08  https://ladi.s3-us-west-2.amazonaws.com/Images...   \n",
      "2016-08-16 09:45:10  https://ladi.s3-us-west-2.amazonaws.com/Images...   \n",
      "2016-08-16 09:45:12  https://ladi.s3-us-west-2.amazonaws.com/Images...   \n",
      "\n",
      "                                       geometry  \n",
      "timestamp                                        \n",
      "2016-08-14 10:25:25  POINT (-91.13024 30.51012)  \n",
      "2016-08-14 10:25:44  POINT (-91.12016 30.50819)  \n",
      "2016-08-14 10:25:46  POINT (-91.11912 30.50796)  \n",
      "2016-08-14 10:25:47  POINT (-91.11860 30.50784)  \n",
      "2016-08-14 10:25:51  POINT (-91.11596 30.50717)  \n",
      "...                                         ...  \n",
      "2016-08-16 09:45:03  POINT (-91.12146 30.49068)  \n",
      "2016-08-16 09:45:05  POINT (-91.12317 30.49049)  \n",
      "2016-08-16 09:45:08  POINT (-91.12431 30.49033)  \n",
      "2016-08-16 09:45:10  POINT (-91.12604 30.49005)  \n",
      "2016-08-16 09:45:12  POINT (-91.12722 30.48992)  \n",
      "\n",
      "[205 rows x 10 columns]\n"
     ]
    }
   ],
   "source": [
    "# filter out images that are outside of the geojson\n",
    "sample = gdf[gdf.geometry.apply(lambda x: x.within(poly))]\n",
    "print(sample)"
   ]
  },
  {
   "cell_type": "code",
   "execution_count": 36,
   "metadata": {},
   "outputs": [],
   "source": [
    "def create_project(sample, project_path):\n",
    "    # copying the jupyter notebook file\n",
    "    try:\n",
    "        shutil.copy(\"run_reconstruction_dir.ipynb\", project_path)\n",
    "    except IOError as e:\n",
    "        print(\"Unable to copy file. %s\" % e)\n",
    "    except:\n",
    "        print(\"Unexpected error:\", sys.exc_info())\n",
    "    \n",
    "    # copying the config file\n",
    "    try:\n",
    "        shutil.copy(\"config.yaml\", project_path)\n",
    "    except IOError as e:\n",
    "        print(\"Unable to copy file. %s\" % e)\n",
    "    except:\n",
    "        print(\"Unexpected error:\", sys.exc_info())\n",
    "    \n",
    "    # get the list of urls to download\n",
    "    url_list = sample[\"url\"].to_list()\n",
    "    \n",
    "    # create the images folder if it does not currently exist\n",
    "    image_folder_path = project_path + \"images/\"\n",
    "    if not os.path.exists(image_folder_path):\n",
    "        os.mkdir(image_folder_path)\n",
    "        \n",
    "    # iterate over the images, download them all\n",
    "    for url in url_list:\n",
    "        image_name = url.split(\"/\")[-1]\n",
    "        image_path = image_folder_path + image_name\n",
    "        if os.path.isfile(image_path):\n",
    "            continue\n",
    "        try:\n",
    "            r = requests.get(url)\n",
    "        except:\n",
    "            continue\n",
    "        with open(image_path, 'wb') as f:\n",
    "            f.write(r.content)"
   ]
  },
  {
   "cell_type": "code",
   "execution_count": 37,
   "metadata": {},
   "outputs": [],
   "source": [
    "create_project(sample, project_path)"
   ]
  },
  {
   "cell_type": "code",
   "execution_count": null,
   "metadata": {},
   "outputs": [],
   "source": []
  },
  {
   "cell_type": "code",
   "execution_count": null,
   "metadata": {},
   "outputs": [],
   "source": []
  }
 ],
 "metadata": {
  "kernelspec": {
   "display_name": "Python 3",
   "language": "python",
   "name": "python3"
  },
  "language_info": {
   "codemirror_mode": {
    "name": "ipython",
    "version": 3
   },
   "file_extension": ".py",
   "mimetype": "text/x-python",
   "name": "python",
   "nbconvert_exporter": "python",
   "pygments_lexer": "ipython3",
   "version": "3.6.6"
  }
 },
 "nbformat": 4,
 "nbformat_minor": 4
}
