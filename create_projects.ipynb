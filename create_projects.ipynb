{
 "cells": [
  {
   "cell_type": "code",
   "execution_count": 1,
   "metadata": {},
   "outputs": [
    {
     "name": "stdout",
     "output_type": "stream",
     "text": [
      "--2020-08-18 18:11:24--  http://ladi.s3-us-west-2.amazonaws.com/Labels/ladi_images_metadata.csv\n",
      "Resolving ladi.s3-us-west-2.amazonaws.com (ladi.s3-us-west-2.amazonaws.com)... 52.218.193.145\n",
      "Connecting to ladi.s3-us-west-2.amazonaws.com (ladi.s3-us-west-2.amazonaws.com)|52.218.193.145|:80... connected.\n",
      "HTTP request sent, awaiting response... 200 OK\n",
      "Length: 183993937 (175M) [text/csv]\n",
      "Saving to: ‘ladi_images_metadata.csv’\n",
      "\n",
      "ladi_images_metadat 100%[===================>] 175.47M  2.20MB/s    in 1m 58s  \n",
      "\n",
      "2020-08-18 18:13:22 (1.49 MB/s) - ‘ladi_images_metadata.csv’ saved [183993937/183993937]\n",
      "\n"
     ]
    }
   ],
   "source": [
    "# downloading the metadata file if it does not exist\n",
    "import os\n",
    "if not os.path.isfile(\"ladi_images_metadata.csv\"):\n",
    "    !wget http://ladi.s3-us-west-2.amazonaws.com/Labels/ladi_images_metadata.csv"
   ]
  },
  {
   "cell_type": "code",
   "execution_count": 12,
   "metadata": {},
   "outputs": [],
   "source": [
    "# importing the usual things\n",
    "import numpy as np\n",
    "import pandas as pd\n",
    "from matplotlib import pyplot as plt\n",
    "import json\n",
    "\n",
    "# importing the geoprocessing libraries\n",
    "import geopandas as gpd\n",
    "import fiona # library for reading/writing GIS files, comes w/ geopandas\n",
    "from shapely.geometry import Point, LineString, Polygon"
   ]
  },
  {
   "cell_type": "code",
   "execution_count": 60,
   "metadata": {},
   "outputs": [],
   "source": [
    "target_date = \"2017-10-13\"\n",
    "\n",
    "# load the csv as a gdf\n",
    "df = pd.read_csv(\"ladi_images_metadata.csv\")\n",
    "df[\"timestamp\"] = pd.to_datetime(df[\"timestamp\"])\n",
    "df.set_index(\"timestamp\", inplace=True)\n",
    "df = df.loc[target_date:target_date]\n",
    "\n",
    "gdf = gpd.GeoDataFrame(\n",
    "    df, geometry=gpd.points_from_xy(df.gps_lon, df.gps_lat))\n",
    "gdf.crs = 'epsg:4326'\n",
    "\n",
    "geojson = gpd.read_file('projects/mercedita/poly.geojson')\n",
    "poly = geojson.iloc[0, 0]"
   ]
  },
  {
   "cell_type": "code",
   "execution_count": 61,
   "metadata": {},
   "outputs": [
    {
     "name": "stdout",
     "output_type": "stream",
     "text": [
      "                                                         uuid    gps_lat  \\\n",
      "timestamp                                                                  \n",
      "2017-10-13 13:05:39  2503270a13156b960939ad423d4388ad53af7333  18.005617   \n",
      "2017-10-13 13:05:42  2f956e99ade5395c494da3c1b5b8a175bcdd0e3f  18.005430   \n",
      "2017-10-13 13:05:44  15fc4f2142c4355aef9bfbedbfdd9e99aa068e46  18.005310   \n",
      "2017-10-13 13:05:46  fce709f4b8f07f2d82377beac75665ef8a9a64de  18.005193   \n",
      "2017-10-13 13:05:49  bc865150138500e26a07f79db79c846a54b0c133  18.005002   \n",
      "...                                                       ...        ...   \n",
      "2017-10-13 13:16:27  29646799f2905d8bf2674cbf5a139064f9ee8e36  18.016165   \n",
      "2017-10-13 13:16:29  ce45a0b24b9ac28e525092ef3d1d10e4f001264d  18.016827   \n",
      "2017-10-13 13:19:09  0b4a7d3a217b2de3e77465903b3864c055b66ee6  17.997250   \n",
      "2017-10-13 13:19:10  67ebfb8dc25162ef12997cf2fcc8b53c05246638  17.996700   \n",
      "2017-10-13 16:37:43  e24b066305a3e3c2c36739c35672b5e8501ea7c8  18.009555   \n",
      "\n",
      "                       gps_lon  gps_alt  file_size   width  height  \\\n",
      "timestamp                                                            \n",
      "2017-10-13 13:05:39 -66.580353    294.0  7770321.0  4496.0  3000.0   \n",
      "2017-10-13 13:05:42 -66.579068    284.0  7631688.0  4496.0  3000.0   \n",
      "2017-10-13 13:05:44 -66.578230    282.0  7615419.0  4496.0  3000.0   \n",
      "2017-10-13 13:05:46 -66.577408    279.0  7363854.0  4496.0  3000.0   \n",
      "2017-10-13 13:05:49 -66.576180    274.0  7452781.0  4496.0  3000.0   \n",
      "...                        ...      ...        ...     ...     ...   \n",
      "2017-10-13 13:16:27 -66.545312    373.0  6916890.0  4496.0  3000.0   \n",
      "2017-10-13 13:16:29 -66.545930    377.0  6582654.0  4496.0  3000.0   \n",
      "2017-10-13 13:19:09 -66.582348    475.0  7532560.0  4496.0  3000.0   \n",
      "2017-10-13 13:19:10 -66.581518    476.0  7569241.0  4496.0  3000.0   \n",
      "2017-10-13 16:37:43 -66.560140     13.0  4123319.0  4496.0  3000.0   \n",
      "\n",
      "                                                               s3_path  \\\n",
      "timestamp                                                                \n",
      "2017-10-13 13:05:39  s3://ladi/Images/FEMA_CAP/9075/614109/DSC_0002...   \n",
      "2017-10-13 13:05:42  s3://ladi/Images/FEMA_CAP/9075/614109/DSC_0003...   \n",
      "2017-10-13 13:05:44  s3://ladi/Images/FEMA_CAP/9075/614109/DSC_0004...   \n",
      "2017-10-13 13:05:46  s3://ladi/Images/FEMA_CAP/9075/614109/DSC_0005...   \n",
      "2017-10-13 13:05:49  s3://ladi/Images/FEMA_CAP/9075/614109/DSC_0006...   \n",
      "...                                                                ...   \n",
      "2017-10-13 13:16:27  s3://ladi/Images/FEMA_CAP/9075/614109/DSC_0235...   \n",
      "2017-10-13 13:16:29  s3://ladi/Images/FEMA_CAP/9075/614109/DSC_0236...   \n",
      "2017-10-13 13:19:09  s3://ladi/Images/FEMA_CAP/9075/614109/DSC_0286...   \n",
      "2017-10-13 13:19:10  s3://ladi/Images/FEMA_CAP/9075/614109/DSC_0287...   \n",
      "2017-10-13 16:37:43  s3://ladi/Images/FEMA_CAP/9075/614110/A0068_AP...   \n",
      "\n",
      "                                                                   url  \\\n",
      "timestamp                                                                \n",
      "2017-10-13 13:05:39  https://ladi.s3-us-west-2.amazonaws.com/Images...   \n",
      "2017-10-13 13:05:42  https://ladi.s3-us-west-2.amazonaws.com/Images...   \n",
      "2017-10-13 13:05:44  https://ladi.s3-us-west-2.amazonaws.com/Images...   \n",
      "2017-10-13 13:05:46  https://ladi.s3-us-west-2.amazonaws.com/Images...   \n",
      "2017-10-13 13:05:49  https://ladi.s3-us-west-2.amazonaws.com/Images...   \n",
      "...                                                                ...   \n",
      "2017-10-13 13:16:27  https://ladi.s3-us-west-2.amazonaws.com/Images...   \n",
      "2017-10-13 13:16:29  https://ladi.s3-us-west-2.amazonaws.com/Images...   \n",
      "2017-10-13 13:19:09  https://ladi.s3-us-west-2.amazonaws.com/Images...   \n",
      "2017-10-13 13:19:10  https://ladi.s3-us-west-2.amazonaws.com/Images...   \n",
      "2017-10-13 16:37:43  https://ladi.s3-us-west-2.amazonaws.com/Images...   \n",
      "\n",
      "                                       geometry  \n",
      "timestamp                                        \n",
      "2017-10-13 13:05:39  POINT (-66.58035 18.00562)  \n",
      "2017-10-13 13:05:42  POINT (-66.57907 18.00543)  \n",
      "2017-10-13 13:05:44  POINT (-66.57823 18.00531)  \n",
      "2017-10-13 13:05:46  POINT (-66.57741 18.00519)  \n",
      "2017-10-13 13:05:49  POINT (-66.57618 18.00500)  \n",
      "...                                         ...  \n",
      "2017-10-13 13:16:27  POINT (-66.54531 18.01617)  \n",
      "2017-10-13 13:16:29  POINT (-66.54593 18.01683)  \n",
      "2017-10-13 13:19:09  POINT (-66.58235 17.99725)  \n",
      "2017-10-13 13:19:10  POINT (-66.58152 17.99670)  \n",
      "2017-10-13 16:37:43  POINT (-66.56014 18.00955)  \n",
      "\n",
      "[149 rows x 10 columns]\n"
     ]
    }
   ],
   "source": [
    "sample = gdf[gdf.geometry.apply(lambda x: x.within(poly))]\n",
    "print(sample)"
   ]
  },
  {
   "cell_type": "code",
   "execution_count": null,
   "metadata": {},
   "outputs": [],
   "source": []
  }
 ],
 "metadata": {
  "kernelspec": {
   "display_name": "Python 3",
   "language": "python",
   "name": "python3"
  },
  "language_info": {
   "codemirror_mode": {
    "name": "ipython",
    "version": 3
   },
   "file_extension": ".py",
   "mimetype": "text/x-python",
   "name": "python",
   "nbconvert_exporter": "python",
   "pygments_lexer": "ipython3",
   "version": "3.6.10"
  }
 },
 "nbformat": 4,
 "nbformat_minor": 4
}
