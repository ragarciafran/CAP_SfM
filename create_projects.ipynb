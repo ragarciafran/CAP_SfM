{
 "cells": [
  {
   "cell_type": "markdown",
   "metadata": {},
   "source": [
    "## Create project\n",
    "\n",
    "This notebook creates a project for OpenSfM to run a reconstruction on. Prerequisites:\n",
    "- Create a directory called projects/ within the current directory\n",
    "- Within projects/, create a folder with whatever name you want to give to your current reconstruction\n",
    "- Within this individual project, download a geojson called map.geojson with your AOI from https://geojson.io/"
   ]
  },
  {
   "cell_type": "code",
   "execution_count": 1,
   "metadata": {},
   "outputs": [
    {
     "name": "stdout",
     "output_type": "stream",
     "text": [
      "--2020-08-19 14:28:54--  http://ladi.s3-us-west-2.amazonaws.com/Labels/ladi_images_metadata.csv\n",
      "Resolving ladi.s3-us-west-2.amazonaws.com (ladi.s3-us-west-2.amazonaws.com)... 52.218.144.5\n",
      "Connecting to ladi.s3-us-west-2.amazonaws.com (ladi.s3-us-west-2.amazonaws.com)|52.218.144.5|:80... connected.\n",
      "HTTP request sent, awaiting response... 200 OK\n",
      "Length: 183993937 (175M) [text/csv]\n",
      "Saving to: ‘ladi_images_metadata.csv’\n",
      "\n",
      "ladi_images_metadat 100%[===================>] 175.47M   266KB/s    in 10m 6s  \n",
      "\n",
      "2020-08-19 14:39:00 (297 KB/s) - ‘ladi_images_metadata.csv’ saved [183993937/183993937]\n",
      "\n"
     ]
    }
   ],
   "source": [
    "# downloading the metadata file if it does not exist\n",
    "import os\n",
    "if not os.path.isfile(\"ladi_images_metadata.csv\"):\n",
    "    !wget http://ladi.s3-us-west-2.amazonaws.com/Labels/ladi_images_metadata.csv"
   ]
  },
  {
   "cell_type": "code",
   "execution_count": 2,
   "metadata": {},
   "outputs": [],
   "source": [
    "# importing the usual things\n",
    "import numpy as np\n",
    "import pandas as pd\n",
    "from matplotlib import pyplot as plt\n",
    "import json\n",
    "import shutil\n",
    "\n",
    "# for downloading images\n",
    "import requests\n",
    "\n",
    "# importing the geoprocessing libraries\n",
    "import geopandas as gpd\n",
    "import fiona # library for reading/writing GIS files, comes w/ geopandas\n",
    "from shapely.geometry import Point, LineString, Polygon"
   ]
  },
  {
   "cell_type": "code",
   "execution_count": 3,
   "metadata": {},
   "outputs": [],
   "source": [
    "# change parameters for individual projects\n",
    "target_date = \"2017-10-13\"\n",
    "project_path = \"projects/mercedita/\""
   ]
  },
  {
   "cell_type": "code",
   "execution_count": 6,
   "metadata": {},
   "outputs": [],
   "source": [
    "# load the csv as a gdf\n",
    "df = pd.read_csv(\"ladi_images_metadata.csv\")\n",
    "df[\"timestamp\"] = pd.to_datetime(df[\"timestamp\"])\n",
    "df.set_index(\"timestamp\", inplace=True)\n",
    "df = df.loc[target_date]\n",
    "\n",
    "gdf = gpd.GeoDataFrame(\n",
    "    df, geometry=gpd.points_from_xy(df.gps_lon, df.gps_lat))\n",
    "gdf.crs = 'epsg:4326'\n",
    "\n",
    "geojson = gpd.read_file(project_path + 'map.geojson')\n",
    "poly = geojson.iloc[0, 0]"
   ]
  },
  {
   "cell_type": "code",
   "execution_count": 7,
   "metadata": {},
   "outputs": [],
   "source": [
    "# filter out images that are outside of the geojson\n",
    "sample = gdf[gdf.geometry.apply(lambda x: x.within(poly))]"
   ]
  },
  {
   "cell_type": "code",
   "execution_count": 9,
   "metadata": {},
   "outputs": [],
   "source": [
    "def create_project(sample, project_path):\n",
    "    # copying the config file\n",
    "    try:\n",
    "        shutil.copy(\"config.yaml\", project_path)\n",
    "    except IOError as e:\n",
    "        print(\"Unable to copy file. %s\" % e)\n",
    "    except:\n",
    "        print(\"Unexpected error:\", sys.exc_info())\n",
    "    \n",
    "    # get the list of urls to download\n",
    "    url_list = sample[\"url\"].to_list()\n",
    "    \n",
    "    # create the images folder if it does not currently exist\n",
    "    image_folder_path = project_path + \"images/\"\n",
    "    if not os.path.exists(image_folder_path):\n",
    "        os.mkdir(image_folder_path)\n",
    "        \n",
    "    raise\n",
    "    # iterate over the images, download them all\n",
    "    for url in url_list:\n",
    "        image_name = url.split(\"/\")[-1]\n",
    "        image_path = image_folder_path + image_name\n",
    "        if os.path.isfile(image_path):\n",
    "            continue\n",
    "        try:\n",
    "            r = requests.get(url)\n",
    "        except:\n",
    "            continue\n",
    "        with open(image_path, 'wb') as f:\n",
    "            f.write(r.content)"
   ]
  },
  {
   "cell_type": "code",
   "execution_count": 10,
   "metadata": {},
   "outputs": [
    {
     "ename": "RuntimeError",
     "evalue": "No active exception to reraise",
     "output_type": "error",
     "traceback": [
      "\u001b[0;31m---------------------------------------------------------------------------\u001b[0m",
      "\u001b[0;31mRuntimeError\u001b[0m                              Traceback (most recent call last)",
      "\u001b[0;32m<ipython-input-10-b6a831d9cb99>\u001b[0m in \u001b[0;36m<module>\u001b[0;34m\u001b[0m\n\u001b[0;32m----> 1\u001b[0;31m \u001b[0mcreate_project\u001b[0m\u001b[0;34m(\u001b[0m\u001b[0msample\u001b[0m\u001b[0;34m,\u001b[0m \u001b[0mproject_path\u001b[0m\u001b[0;34m)\u001b[0m\u001b[0;34m\u001b[0m\u001b[0m\n\u001b[0m",
      "\u001b[0;32m<ipython-input-9-a62b2105496c>\u001b[0m in \u001b[0;36mcreate_project\u001b[0;34m(sample, project_path)\u001b[0m\n\u001b[1;32m     16\u001b[0m         \u001b[0mos\u001b[0m\u001b[0;34m.\u001b[0m\u001b[0mmkdir\u001b[0m\u001b[0;34m(\u001b[0m\u001b[0mimage_folder_path\u001b[0m\u001b[0;34m)\u001b[0m\u001b[0;34m\u001b[0m\u001b[0m\n\u001b[1;32m     17\u001b[0m \u001b[0;34m\u001b[0m\u001b[0m\n\u001b[0;32m---> 18\u001b[0;31m     \u001b[0;32mraise\u001b[0m\u001b[0;34m\u001b[0m\u001b[0m\n\u001b[0m\u001b[1;32m     19\u001b[0m     \u001b[0;31m# iterate over the images, download them all\u001b[0m\u001b[0;34m\u001b[0m\u001b[0;34m\u001b[0m\u001b[0m\n\u001b[1;32m     20\u001b[0m     \u001b[0;32mfor\u001b[0m \u001b[0murl\u001b[0m \u001b[0;32min\u001b[0m \u001b[0murl_list\u001b[0m\u001b[0;34m:\u001b[0m\u001b[0;34m\u001b[0m\u001b[0m\n",
      "\u001b[0;31mRuntimeError\u001b[0m: No active exception to reraise"
     ]
    }
   ],
   "source": [
    "create_project(sample, project_path)"
   ]
  }
 ],
 "metadata": {
  "kernelspec": {
   "display_name": "Python 3",
   "language": "python",
   "name": "python3"
  },
  "language_info": {
   "codemirror_mode": {
    "name": "ipython",
    "version": 3
   },
   "file_extension": ".py",
   "mimetype": "text/x-python",
   "name": "python",
   "nbconvert_exporter": "python",
   "pygments_lexer": "ipython3",
   "version": "3.6.6"
  }
 },
 "nbformat": 4,
 "nbformat_minor": 4
}
